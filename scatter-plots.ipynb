{
 "cells": [
  {
   "cell_type": "markdown",
   "id": "dfe0c649",
   "metadata": {
    "papermill": {
     "duration": 0.036247,
     "end_time": "2022-04-12T13:51:22.109168",
     "exception": false,
     "start_time": "2022-04-12T13:51:22.072921",
     "status": "completed"
    },
    "tags": []
   },
   "source": [
    "**This notebook is an exercise in the [Data Visualization](https://www.kaggle.com/learn/data-visualization) course.  You can reference the tutorial at [this link](https://www.kaggle.com/alexisbcook/scatter-plots).**\n",
    "\n",
    "---\n"
   ]
  },
  {
   "cell_type": "markdown",
   "id": "b0ca144f",
   "metadata": {
    "papermill": {
     "duration": 0.035076,
     "end_time": "2022-04-12T13:51:22.179837",
     "exception": false,
     "start_time": "2022-04-12T13:51:22.144761",
     "status": "completed"
    },
    "tags": []
   },
   "source": [
    "In this exercise, you will use your new knowledge to propose a solution to a real-world scenario.  To succeed, you will need to import data into Python, answer questions using the data, and generate **scatter plots** to understand patterns in the data.\n",
    "\n",
    "## Scenario\n",
    "\n",
    "You work for a major candy producer, and your goal is to write a report that your company can use to guide the design of its next product.  Soon after starting your research, you stumble across this [very interesting dataset](https://fivethirtyeight.com/features/the-ultimate-halloween-candy-power-ranking/) containing results from a fun survey to crowdsource favorite candies.\n",
    "\n",
    "## Setup\n",
    "\n",
    "Run the next cell to import and configure the Python libraries that you need to complete the exercise."
   ]
  },
  {
   "cell_type": "code",
   "execution_count": 1,
   "id": "f82765a6",
   "metadata": {
    "execution": {
     "iopub.execute_input": "2022-04-12T13:51:22.258135Z",
     "iopub.status.busy": "2022-04-12T13:51:22.257353Z",
     "iopub.status.idle": "2022-04-12T13:51:23.286347Z",
     "shell.execute_reply": "2022-04-12T13:51:23.286807Z",
     "shell.execute_reply.started": "2022-04-12T13:36:05.332887Z"
    },
    "papermill": {
     "duration": 1.07243,
     "end_time": "2022-04-12T13:51:23.287118",
     "exception": false,
     "start_time": "2022-04-12T13:51:22.214688",
     "status": "completed"
    },
    "tags": []
   },
   "outputs": [
    {
     "name": "stdout",
     "output_type": "stream",
     "text": [
      "Setup Complete\n"
     ]
    }
   ],
   "source": [
    "import pandas as pd\n",
    "pd.plotting.register_matplotlib_converters()\n",
    "import matplotlib.pyplot as plt\n",
    "%matplotlib inline\n",
    "import seaborn as sns\n",
    "print(\"Setup Complete\")"
   ]
  },
  {
   "cell_type": "markdown",
   "id": "fa4e9116",
   "metadata": {
    "papermill": {
     "duration": 0.03495,
     "end_time": "2022-04-12T13:51:23.357613",
     "exception": false,
     "start_time": "2022-04-12T13:51:23.322663",
     "status": "completed"
    },
    "tags": []
   },
   "source": [
    "The questions below will give you feedback on your work. Run the following cell to set up our feedback system."
   ]
  },
  {
   "cell_type": "code",
   "execution_count": 2,
   "id": "d07c968a",
   "metadata": {
    "execution": {
     "iopub.execute_input": "2022-04-12T13:51:23.431952Z",
     "iopub.status.busy": "2022-04-12T13:51:23.431305Z",
     "iopub.status.idle": "2022-04-12T13:51:23.490396Z",
     "shell.execute_reply": "2022-04-12T13:51:23.490908Z",
     "shell.execute_reply.started": "2022-04-12T13:36:10.953393Z"
    },
    "papermill": {
     "duration": 0.09778,
     "end_time": "2022-04-12T13:51:23.491089",
     "exception": false,
     "start_time": "2022-04-12T13:51:23.393309",
     "status": "completed"
    },
    "tags": []
   },
   "outputs": [
    {
     "name": "stdout",
     "output_type": "stream",
     "text": [
      "Setup Complete\n"
     ]
    }
   ],
   "source": [
    "# Set up code checking\n",
    "import os\n",
    "if not os.path.exists(\"../input/candy.csv\"):\n",
    "    os.symlink(\"../input/data-for-datavis/candy.csv\", \"../input/candy.csv\") \n",
    "from learntools.core import binder\n",
    "binder.bind(globals())\n",
    "from learntools.data_viz_to_coder.ex4 import *\n",
    "print(\"Setup Complete\")"
   ]
  },
  {
   "cell_type": "markdown",
   "id": "c5845041",
   "metadata": {
    "papermill": {
     "duration": 0.037476,
     "end_time": "2022-04-12T13:51:23.564493",
     "exception": false,
     "start_time": "2022-04-12T13:51:23.527017",
     "status": "completed"
    },
    "tags": []
   },
   "source": [
    "## Step 1: Load the Data\n",
    "\n",
    "Read the candy data file into `candy_data`.  Use the `\"id\"` column to label the rows."
   ]
  },
  {
   "cell_type": "code",
   "execution_count": 3,
   "id": "f83e15a0",
   "metadata": {
    "execution": {
     "iopub.execute_input": "2022-04-12T13:51:23.639681Z",
     "iopub.status.busy": "2022-04-12T13:51:23.639003Z",
     "iopub.status.idle": "2022-04-12T13:51:23.652490Z",
     "shell.execute_reply": "2022-04-12T13:51:23.653114Z",
     "shell.execute_reply.started": "2022-04-12T13:36:13.736992Z"
    },
    "papermill": {
     "duration": 0.05294,
     "end_time": "2022-04-12T13:51:23.653283",
     "exception": false,
     "start_time": "2022-04-12T13:51:23.600343",
     "status": "completed"
    },
    "tags": []
   },
   "outputs": [
    {
     "data": {
      "application/javascript": [
       "parent.postMessage({\"jupyterEvent\": \"custom.exercise_interaction\", \"data\": {\"outcomeType\": 1, \"valueTowardsCompletion\": 0.3333333333333333, \"interactionType\": 1, \"questionType\": 1, \"questionId\": \"1_LoadData\", \"learnToolsVersion\": \"0.3.4\", \"failureMessage\": \"\", \"exceptionClass\": \"\", \"trace\": \"\"}}, \"*\")"
      ],
      "text/plain": [
       "<IPython.core.display.Javascript object>"
      ]
     },
     "metadata": {},
     "output_type": "display_data"
    },
    {
     "data": {
      "text/markdown": [
       "<span style=\"color:#33cc33\">Correct</span>"
      ],
      "text/plain": [
       "Correct"
      ]
     },
     "metadata": {},
     "output_type": "display_data"
    }
   ],
   "source": [
    "# Path of the file to read\n",
    "candy_filepath = \"../input/candy.csv\"\n",
    "\n",
    "# Fill in the line below to read the file into a variable candy_data\n",
    "candy_data = pd.read_csv(candy_filepath,index_col='id')\n",
    "\n",
    "# Run the line below with no changes to check that you've loaded the data correctly\n",
    "step_1.check()"
   ]
  },
  {
   "cell_type": "code",
   "execution_count": 4,
   "id": "833097e3",
   "metadata": {
    "execution": {
     "iopub.execute_input": "2022-04-12T13:51:23.730927Z",
     "iopub.status.busy": "2022-04-12T13:51:23.730237Z",
     "iopub.status.idle": "2022-04-12T13:51:23.733689Z",
     "shell.execute_reply": "2022-04-12T13:51:23.734282Z",
     "shell.execute_reply.started": "2022-04-12T01:57:42.922938Z"
    },
    "papermill": {
     "duration": 0.043911,
     "end_time": "2022-04-12T13:51:23.734461",
     "exception": false,
     "start_time": "2022-04-12T13:51:23.690550",
     "status": "completed"
    },
    "tags": []
   },
   "outputs": [],
   "source": [
    "# Lines below will give you a hint or solution code\n",
    "#step_1.hint()\n",
    "#step_1.solution()"
   ]
  },
  {
   "cell_type": "markdown",
   "id": "315f648c",
   "metadata": {
    "papermill": {
     "duration": 0.036999,
     "end_time": "2022-04-12T13:51:23.810457",
     "exception": false,
     "start_time": "2022-04-12T13:51:23.773458",
     "status": "completed"
    },
    "tags": []
   },
   "source": [
    "## Step 2: Review the data\n",
    "\n",
    "Use a Python command to print the first five rows of the data."
   ]
  },
  {
   "cell_type": "code",
   "execution_count": 5,
   "id": "2dc101d7",
   "metadata": {
    "execution": {
     "iopub.execute_input": "2022-04-12T13:51:23.887889Z",
     "iopub.status.busy": "2022-04-12T13:51:23.887189Z",
     "iopub.status.idle": "2022-04-12T13:51:23.908290Z",
     "shell.execute_reply": "2022-04-12T13:51:23.909015Z",
     "shell.execute_reply.started": "2022-04-12T01:57:56.991652Z"
    },
    "papermill": {
     "duration": 0.061634,
     "end_time": "2022-04-12T13:51:23.909268",
     "exception": false,
     "start_time": "2022-04-12T13:51:23.847634",
     "status": "completed"
    },
    "tags": []
   },
   "outputs": [
    {
     "data": {
      "text/html": [
       "<div>\n",
       "<style scoped>\n",
       "    .dataframe tbody tr th:only-of-type {\n",
       "        vertical-align: middle;\n",
       "    }\n",
       "\n",
       "    .dataframe tbody tr th {\n",
       "        vertical-align: top;\n",
       "    }\n",
       "\n",
       "    .dataframe thead th {\n",
       "        text-align: right;\n",
       "    }\n",
       "</style>\n",
       "<table border=\"1\" class=\"dataframe\">\n",
       "  <thead>\n",
       "    <tr style=\"text-align: right;\">\n",
       "      <th></th>\n",
       "      <th>competitorname</th>\n",
       "      <th>chocolate</th>\n",
       "      <th>fruity</th>\n",
       "      <th>caramel</th>\n",
       "      <th>peanutyalmondy</th>\n",
       "      <th>nougat</th>\n",
       "      <th>crispedricewafer</th>\n",
       "      <th>hard</th>\n",
       "      <th>bar</th>\n",
       "      <th>pluribus</th>\n",
       "      <th>sugarpercent</th>\n",
       "      <th>pricepercent</th>\n",
       "      <th>winpercent</th>\n",
       "    </tr>\n",
       "    <tr>\n",
       "      <th>id</th>\n",
       "      <th></th>\n",
       "      <th></th>\n",
       "      <th></th>\n",
       "      <th></th>\n",
       "      <th></th>\n",
       "      <th></th>\n",
       "      <th></th>\n",
       "      <th></th>\n",
       "      <th></th>\n",
       "      <th></th>\n",
       "      <th></th>\n",
       "      <th></th>\n",
       "      <th></th>\n",
       "    </tr>\n",
       "  </thead>\n",
       "  <tbody>\n",
       "    <tr>\n",
       "      <th>0</th>\n",
       "      <td>100 Grand</td>\n",
       "      <td>Yes</td>\n",
       "      <td>No</td>\n",
       "      <td>Yes</td>\n",
       "      <td>No</td>\n",
       "      <td>No</td>\n",
       "      <td>Yes</td>\n",
       "      <td>No</td>\n",
       "      <td>Yes</td>\n",
       "      <td>No</td>\n",
       "      <td>0.732</td>\n",
       "      <td>0.860</td>\n",
       "      <td>66.971725</td>\n",
       "    </tr>\n",
       "    <tr>\n",
       "      <th>1</th>\n",
       "      <td>3 Musketeers</td>\n",
       "      <td>Yes</td>\n",
       "      <td>No</td>\n",
       "      <td>No</td>\n",
       "      <td>No</td>\n",
       "      <td>Yes</td>\n",
       "      <td>No</td>\n",
       "      <td>No</td>\n",
       "      <td>Yes</td>\n",
       "      <td>No</td>\n",
       "      <td>0.604</td>\n",
       "      <td>0.511</td>\n",
       "      <td>67.602936</td>\n",
       "    </tr>\n",
       "    <tr>\n",
       "      <th>2</th>\n",
       "      <td>Air Heads</td>\n",
       "      <td>No</td>\n",
       "      <td>Yes</td>\n",
       "      <td>No</td>\n",
       "      <td>No</td>\n",
       "      <td>No</td>\n",
       "      <td>No</td>\n",
       "      <td>No</td>\n",
       "      <td>No</td>\n",
       "      <td>No</td>\n",
       "      <td>0.906</td>\n",
       "      <td>0.511</td>\n",
       "      <td>52.341465</td>\n",
       "    </tr>\n",
       "    <tr>\n",
       "      <th>3</th>\n",
       "      <td>Almond Joy</td>\n",
       "      <td>Yes</td>\n",
       "      <td>No</td>\n",
       "      <td>No</td>\n",
       "      <td>Yes</td>\n",
       "      <td>No</td>\n",
       "      <td>No</td>\n",
       "      <td>No</td>\n",
       "      <td>Yes</td>\n",
       "      <td>No</td>\n",
       "      <td>0.465</td>\n",
       "      <td>0.767</td>\n",
       "      <td>50.347546</td>\n",
       "    </tr>\n",
       "    <tr>\n",
       "      <th>4</th>\n",
       "      <td>Baby Ruth</td>\n",
       "      <td>Yes</td>\n",
       "      <td>No</td>\n",
       "      <td>Yes</td>\n",
       "      <td>Yes</td>\n",
       "      <td>Yes</td>\n",
       "      <td>No</td>\n",
       "      <td>No</td>\n",
       "      <td>Yes</td>\n",
       "      <td>No</td>\n",
       "      <td>0.604</td>\n",
       "      <td>0.767</td>\n",
       "      <td>56.914547</td>\n",
       "    </tr>\n",
       "  </tbody>\n",
       "</table>\n",
       "</div>"
      ],
      "text/plain": [
       "   competitorname chocolate fruity caramel peanutyalmondy nougat  \\\n",
       "id                                                                 \n",
       "0       100 Grand       Yes     No     Yes             No     No   \n",
       "1    3 Musketeers       Yes     No      No             No    Yes   \n",
       "2       Air Heads        No    Yes      No             No     No   \n",
       "3      Almond Joy       Yes     No      No            Yes     No   \n",
       "4       Baby Ruth       Yes     No     Yes            Yes    Yes   \n",
       "\n",
       "   crispedricewafer hard  bar pluribus  sugarpercent  pricepercent  winpercent  \n",
       "id                                                                              \n",
       "0               Yes   No  Yes       No         0.732         0.860   66.971725  \n",
       "1                No   No  Yes       No         0.604         0.511   67.602936  \n",
       "2                No   No   No       No         0.906         0.511   52.341465  \n",
       "3                No   No  Yes       No         0.465         0.767   50.347546  \n",
       "4                No   No  Yes       No         0.604         0.767   56.914547  "
      ]
     },
     "execution_count": 5,
     "metadata": {},
     "output_type": "execute_result"
    }
   ],
   "source": [
    "# Print the first five rows of the data\n",
    "candy_data.head() # Your code here"
   ]
  },
  {
   "cell_type": "markdown",
   "id": "dfffbb14",
   "metadata": {
    "papermill": {
     "duration": 0.037879,
     "end_time": "2022-04-12T13:51:23.985795",
     "exception": false,
     "start_time": "2022-04-12T13:51:23.947916",
     "status": "completed"
    },
    "tags": []
   },
   "source": [
    "The dataset contains 83 rows, where each corresponds to a different candy bar.  There are 13 columns:\n",
    "- `'competitorname'` contains the name of the candy bar. \n",
    "- the next **9** columns (from `'chocolate'` to `'pluribus'`) describe the candy.  For instance, rows with chocolate candies have `\"Yes\"` in the `'chocolate'` column (and candies without chocolate have `\"No\"` in the same column).\n",
    "- `'sugarpercent'` provides some indication of the amount of sugar, where higher values signify higher sugar content.\n",
    "- `'pricepercent'` shows the price per unit, relative to the other candies in the dataset.\n",
    "- `'winpercent'` is calculated from the survey results; higher values indicate that the candy was more popular with survey respondents.\n",
    "\n",
    "Use the first five rows of the data to answer the questions below."
   ]
  },
  {
   "cell_type": "code",
   "execution_count": 6,
   "id": "84f688bf",
   "metadata": {
    "execution": {
     "iopub.execute_input": "2022-04-12T13:51:24.067787Z",
     "iopub.status.busy": "2022-04-12T13:51:24.066652Z",
     "iopub.status.idle": "2022-04-12T13:51:24.073070Z",
     "shell.execute_reply": "2022-04-12T13:51:24.073710Z",
     "shell.execute_reply.started": "2022-04-12T02:00:14.830807Z"
    },
    "papermill": {
     "duration": 0.05042,
     "end_time": "2022-04-12T13:51:24.073917",
     "exception": false,
     "start_time": "2022-04-12T13:51:24.023497",
     "status": "completed"
    },
    "tags": []
   },
   "outputs": [
    {
     "data": {
      "application/javascript": [
       "parent.postMessage({\"jupyterEvent\": \"custom.exercise_interaction\", \"data\": {\"outcomeType\": 1, \"valueTowardsCompletion\": 0.3333333333333333, \"interactionType\": 1, \"questionType\": 1, \"questionId\": \"2_ReviewData\", \"learnToolsVersion\": \"0.3.4\", \"failureMessage\": \"\", \"exceptionClass\": \"\", \"trace\": \"\"}}, \"*\")"
      ],
      "text/plain": [
       "<IPython.core.display.Javascript object>"
      ]
     },
     "metadata": {},
     "output_type": "display_data"
    },
    {
     "data": {
      "text/markdown": [
       "<span style=\"color:#33cc33\">Correct</span>"
      ],
      "text/plain": [
       "Correct"
      ]
     },
     "metadata": {},
     "output_type": "display_data"
    }
   ],
   "source": [
    "# Fill in the line below: Which candy was more popular with survey respondents:\n",
    "# '3 Musketeers' or 'Almond Joy'?  (Please enclose your answer in single quotes.)\n",
    "more_popular = '3 Musketeers'\n",
    "\n",
    "# Fill in the line below: Which candy has higher sugar content: 'Air Heads'\n",
    "# or 'Baby Ruth'? (Please enclose your answer in single quotes.)\n",
    "more_sugar = 'Air Heads'\n",
    "\n",
    "# Check your answers\n",
    "step_2.check()"
   ]
  },
  {
   "cell_type": "code",
   "execution_count": 7,
   "id": "55608dfc",
   "metadata": {
    "execution": {
     "iopub.execute_input": "2022-04-12T13:51:24.156974Z",
     "iopub.status.busy": "2022-04-12T13:51:24.156029Z",
     "iopub.status.idle": "2022-04-12T13:51:24.159355Z",
     "shell.execute_reply": "2022-04-12T13:51:24.159967Z",
     "shell.execute_reply.started": "2022-04-12T02:00:16.870589Z"
    },
    "papermill": {
     "duration": 0.047384,
     "end_time": "2022-04-12T13:51:24.160145",
     "exception": false,
     "start_time": "2022-04-12T13:51:24.112761",
     "status": "completed"
    },
    "tags": []
   },
   "outputs": [],
   "source": [
    "# Lines below will give you a hint or solution code\n",
    "#step_2.hint()\n",
    "#step_2.solution()"
   ]
  },
  {
   "cell_type": "markdown",
   "id": "f6be899d",
   "metadata": {
    "papermill": {
     "duration": 0.038861,
     "end_time": "2022-04-12T13:51:24.238833",
     "exception": false,
     "start_time": "2022-04-12T13:51:24.199972",
     "status": "completed"
    },
    "tags": []
   },
   "source": [
    "## Step 3: The role of sugar\n",
    "\n",
    "Do people tend to prefer candies with higher sugar content?  \n",
    "\n",
    "#### Part A\n",
    "\n",
    "Create a scatter plot that shows the relationship between `'sugarpercent'` (on the horizontal x-axis) and `'winpercent'` (on the vertical y-axis).  _Don't add a regression line just yet -- you'll do that in the next step!_"
   ]
  },
  {
   "cell_type": "code",
   "execution_count": 8,
   "id": "6e67b18e",
   "metadata": {
    "execution": {
     "iopub.execute_input": "2022-04-12T13:51:24.333056Z",
     "iopub.status.busy": "2022-04-12T13:51:24.323757Z",
     "iopub.status.idle": "2022-04-12T13:51:24.580563Z",
     "shell.execute_reply": "2022-04-12T13:51:24.581035Z",
     "shell.execute_reply.started": "2022-04-12T02:02:00.369224Z"
    },
    "papermill": {
     "duration": 0.303034,
     "end_time": "2022-04-12T13:51:24.581219",
     "exception": false,
     "start_time": "2022-04-12T13:51:24.278185",
     "status": "completed"
    },
    "tags": []
   },
   "outputs": [
    {
     "data": {
      "application/javascript": [
       "parent.postMessage({\"jupyterEvent\": \"custom.exercise_interaction\", \"data\": {\"outcomeType\": 1, \"valueTowardsCompletion\": 0.3333333333333333, \"interactionType\": 1, \"questionType\": 2, \"questionId\": \"3.1_PlotBlueScatter\", \"learnToolsVersion\": \"0.3.4\", \"failureMessage\": \"\", \"exceptionClass\": \"\", \"trace\": \"\"}}, \"*\")"
      ],
      "text/plain": [
       "<IPython.core.display.Javascript object>"
      ]
     },
     "metadata": {},
     "output_type": "display_data"
    },
    {
     "data": {
      "text/markdown": [
       "<span style=\"color:#33cc33\">Correct</span>"
      ],
      "text/plain": [
       "Correct"
      ]
     },
     "metadata": {},
     "output_type": "display_data"
    },
    {
     "data": {
      "image/png": "[encoded data removed]",
      "text/plain": [
       "<Figure size 432x288 with 1 Axes>"
      ]
     },
     "metadata": {
      "needs_background": "light"
     },
     "output_type": "display_data"
    }
   ],
   "source": [
    "# Scatter plot showing the relationship between 'sugarpercent' and 'winpercent'\n",
    "sns.scatterplot(x=candy_data['sugarpercent'],y=candy_data['winpercent']) # Your code here\n",
    "\n",
    "# Check your answer\n",
    "step_3.a.check()"
   ]
  },
  {
   "cell_type": "code",
   "execution_count": 9,
   "id": "a8e6c182",
   "metadata": {
    "execution": {
     "iopub.execute_input": "2022-04-12T13:51:24.667719Z",
     "iopub.status.busy": "2022-04-12T13:51:24.667052Z",
     "iopub.status.idle": "2022-04-12T13:51:24.669644Z",
     "shell.execute_reply": "2022-04-12T13:51:24.670148Z",
     "shell.execute_reply.started": "2022-04-12T02:02:06.903379Z"
    },
    "papermill": {
     "duration": 0.047123,
     "end_time": "2022-04-12T13:51:24.670313",
     "exception": false,
     "start_time": "2022-04-12T13:51:24.623190",
     "status": "completed"
    },
    "tags": []
   },
   "outputs": [],
   "source": [
    "# Lines below will give you a hint or solution code\n",
    "#step_3.a.hint()\n",
    "#step_3.a.solution_plot()"
   ]
  },
  {
   "cell_type": "markdown",
   "id": "3b1a2b01",
   "metadata": {
    "papermill": {
     "duration": 0.040429,
     "end_time": "2022-04-12T13:51:24.751640",
     "exception": false,
     "start_time": "2022-04-12T13:51:24.711211",
     "status": "completed"
    },
    "tags": []
   },
   "source": [
    "#### Part B\n",
    "\n",
    "Does the scatter plot show a **strong** correlation between the two variables?  If so, are candies with more sugar relatively more or less popular with the survey respondents?"
   ]
  },
  {
   "cell_type": "code",
   "execution_count": 10,
   "id": "bdca334d",
   "metadata": {
    "execution": {
     "iopub.execute_input": "2022-04-12T13:51:24.838817Z",
     "iopub.status.busy": "2022-04-12T13:51:24.837821Z",
     "iopub.status.idle": "2022-04-12T13:51:24.841356Z",
     "shell.execute_reply": "2022-04-12T13:51:24.841792Z",
     "shell.execute_reply.started": "2022-04-12T02:02:23.317427Z"
    },
    "papermill": {
     "duration": 0.047832,
     "end_time": "2022-04-12T13:51:24.841975",
     "exception": false,
     "start_time": "2022-04-12T13:51:24.794143",
     "status": "completed"
    },
    "tags": []
   },
   "outputs": [],
   "source": [
    "#step_3.b.hint()"
   ]
  },
  {
   "cell_type": "code",
   "execution_count": 11,
   "id": "a15b908e",
   "metadata": {
    "execution": {
     "iopub.execute_input": "2022-04-12T13:51:24.927889Z",
     "iopub.status.busy": "2022-04-12T13:51:24.926879Z",
     "iopub.status.idle": "2022-04-12T13:51:24.932875Z",
     "shell.execute_reply": "2022-04-12T13:51:24.933402Z",
     "shell.execute_reply.started": "2022-04-12T02:02:23.852239Z"
    },
    "papermill": {
     "duration": 0.050728,
     "end_time": "2022-04-12T13:51:24.933633",
     "exception": false,
     "start_time": "2022-04-12T13:51:24.882905",
     "status": "completed"
    },
    "tags": []
   },
   "outputs": [
    {
     "data": {
      "application/javascript": [
       "parent.postMessage({\"jupyterEvent\": \"custom.exercise_interaction\", \"data\": {\"interactionType\": 3, \"questionType\": 4, \"questionId\": \"3.2_ThinkBlueScatter\", \"learnToolsVersion\": \"0.3.4\", \"valueTowardsCompletion\": 0.0, \"failureMessage\": \"\", \"exceptionClass\": \"\", \"trace\": \"\", \"outcomeType\": 4}}, \"*\")"
      ],
      "text/plain": [
       "<IPython.core.display.Javascript object>"
      ]
     },
     "metadata": {},
     "output_type": "display_data"
    },
    {
     "data": {
      "text/markdown": [
       "<span style=\"color:#33cc99\">Solution:</span> The scatter plot does not show a strong correlation between the two variables. Since there is no clear relationship between the two variables, this tells us that sugar content does not play a strong role in candy popularity."
      ],
      "text/plain": [
       "Solution: The scatter plot does not show a strong correlation between the two variables. Since there is no clear relationship between the two variables, this tells us that sugar content does not play a strong role in candy popularity."
      ]
     },
     "metadata": {},
     "output_type": "display_data"
    }
   ],
   "source": [
    "# Check your answer (Run this code cell to receive credit!)\n",
    "step_3.b.solution()"
   ]
  },
  {
   "cell_type": "markdown",
   "id": "51384e49",
   "metadata": {
    "papermill": {
     "duration": 0.04267,
     "end_time": "2022-04-12T13:51:25.020297",
     "exception": false,
     "start_time": "2022-04-12T13:51:24.977627",
     "status": "completed"
    },
    "tags": []
   },
   "source": [
    "## Step 4: Take a closer look\n",
    "\n",
    "#### Part A\n",
    "\n",
    "Create the same scatter plot you created in **Step 3**, but now with a regression line!"
   ]
  },
  {
   "cell_type": "code",
   "execution_count": 12,
   "id": "6c903dc5",
   "metadata": {
    "execution": {
     "iopub.execute_input": "2022-04-12T13:51:25.107949Z",
     "iopub.status.busy": "2022-04-12T13:51:25.107314Z",
     "iopub.status.idle": "2022-04-12T13:51:25.445282Z",
     "shell.execute_reply": "2022-04-12T13:51:25.445776Z",
     "shell.execute_reply.started": "2022-04-12T02:03:03.821484Z"
    },
    "papermill": {
     "duration": 0.383211,
     "end_time": "2022-04-12T13:51:25.445980",
     "exception": false,
     "start_time": "2022-04-12T13:51:25.062769",
     "status": "completed"
    },
    "tags": []
   },
   "outputs": [
    {
     "data": {
      "application/javascript": [
       "parent.postMessage({\"jupyterEvent\": \"custom.exercise_interaction\", \"data\": {\"outcomeType\": 1, \"valueTowardsCompletion\": 0.3333333333333333, \"interactionType\": 1, \"questionType\": 2, \"questionId\": \"4.1_PlotBlueReg\", \"learnToolsVersion\": \"0.3.4\", \"failureMessage\": \"\", \"exceptionClass\": \"\", \"trace\": \"\"}}, \"*\")"
      ],
      "text/plain": [
       "<IPython.core.display.Javascript object>"
      ]
     },
     "metadata": {},
     "output_type": "display_data"
    },
    {
     "data": {
      "text/markdown": [
       "<span style=\"color:#33cc33\">Correct</span>"
      ],
      "text/plain": [
       "Correct"
      ]
     },
     "metadata": {},
     "output_type": "display_data"
    },
    {
     "data": {
      "image/png": "[encoded data removed]",
      "text/plain": [
       "<Figure size 432x288 with 1 Axes>"
      ]
     },
     "metadata": {
      "needs_background": "light"
     },
     "output_type": "display_data"
    }
   ],
   "source": [
    "# Scatter plot w/ regression line showing the relationship between 'sugarpercent' and 'winpercent'\n",
    "sns.regplot(x=candy_data['sugarpercent'],y=candy_data['winpercent']) # Your code here\n",
    "\n",
    "# Check your answer\n",
    "step_4.a.check()"
   ]
  },
  {
   "cell_type": "code",
   "execution_count": 13,
   "id": "06a4e4d3",
   "metadata": {
    "execution": {
     "iopub.execute_input": "2022-04-12T13:51:25.539015Z",
     "iopub.status.busy": "2022-04-12T13:51:25.538102Z",
     "iopub.status.idle": "2022-04-12T13:51:25.540892Z",
     "shell.execute_reply": "2022-04-12T13:51:25.541430Z",
     "shell.execute_reply.started": "2022-04-12T02:03:12.513419Z"
    },
    "papermill": {
     "duration": 0.051196,
     "end_time": "2022-04-12T13:51:25.541596",
     "exception": false,
     "start_time": "2022-04-12T13:51:25.490400",
     "status": "completed"
    },
    "tags": []
   },
   "outputs": [],
   "source": [
    "# Lines below will give you a hint or solution code\n",
    "#step_4.a.hint()\n",
    "#step_4.a.solution_plot()"
   ]
  },
  {
   "cell_type": "markdown",
   "id": "8febff70",
   "metadata": {
    "papermill": {
     "duration": 0.0449,
     "end_time": "2022-04-12T13:51:25.632024",
     "exception": false,
     "start_time": "2022-04-12T13:51:25.587124",
     "status": "completed"
    },
    "tags": []
   },
   "source": [
    "#### Part B\n",
    "\n",
    "According to the plot above, is there a **slight** correlation between `'winpercent'` and `'sugarpercent'`?  What does this tell you about the candy that people tend to prefer?"
   ]
  },
  {
   "cell_type": "code",
   "execution_count": 14,
   "id": "c037ac76",
   "metadata": {
    "execution": {
     "iopub.execute_input": "2022-04-12T13:51:25.726230Z",
     "iopub.status.busy": "2022-04-12T13:51:25.725476Z",
     "iopub.status.idle": "2022-04-12T13:51:25.728355Z",
     "shell.execute_reply": "2022-04-12T13:51:25.727813Z",
     "shell.execute_reply.started": "2022-04-12T02:03:35.081176Z"
    },
    "papermill": {
     "duration": 0.051547,
     "end_time": "2022-04-12T13:51:25.728512",
     "exception": false,
     "start_time": "2022-04-12T13:51:25.676965",
     "status": "completed"
    },
    "tags": []
   },
   "outputs": [],
   "source": [
    "#step_4.b.hint()"
   ]
  },
  {
   "cell_type": "code",
   "execution_count": 15,
   "id": "8b69254b",
   "metadata": {
    "execution": {
     "iopub.execute_input": "2022-04-12T13:51:25.824998Z",
     "iopub.status.busy": "2022-04-12T13:51:25.824281Z",
     "iopub.status.idle": "2022-04-12T13:51:25.829023Z",
     "shell.execute_reply": "2022-04-12T13:51:25.828391Z",
     "shell.execute_reply.started": "2022-04-12T02:03:36.001410Z"
    },
    "papermill": {
     "duration": 0.055768,
     "end_time": "2022-04-12T13:51:25.829162",
     "exception": false,
     "start_time": "2022-04-12T13:51:25.773394",
     "status": "completed"
    },
    "tags": []
   },
   "outputs": [
    {
     "data": {
      "application/javascript": [
       "parent.postMessage({\"jupyterEvent\": \"custom.exercise_interaction\", \"data\": {\"interactionType\": 3, \"questionType\": 4, \"questionId\": \"4.2_ThinkBlueReg\", \"learnToolsVersion\": \"0.3.4\", \"valueTowardsCompletion\": 0.0, \"failureMessage\": \"\", \"exceptionClass\": \"\", \"trace\": \"\", \"outcomeType\": 4}}, \"*\")"
      ],
      "text/plain": [
       "<IPython.core.display.Javascript object>"
      ]
     },
     "metadata": {},
     "output_type": "display_data"
    },
    {
     "data": {
      "text/markdown": [
       "<span style=\"color:#33cc99\">Solution:</span> Since the regression line has a slightly positive slope, this tells us that there is a slightly positive correlation between `'winpercent'` and `'sugarpercent'`. Thus, people have a slight preference for candies containing relatively more sugar."
      ],
      "text/plain": [
       "Solution: Since the regression line has a slightly positive slope, this tells us that there is a slightly positive correlation between `'winpercent'` and `'sugarpercent'`. Thus, people have a slight preference for candies containing relatively more sugar."
      ]
     },
     "metadata": {},
     "output_type": "display_data"
    }
   ],
   "source": [
    "# Check your answer (Run this code cell to receive credit!)\n",
    "step_4.b.solution()"
   ]
  },
  {
   "cell_type": "markdown",
   "id": "06cdbc76",
   "metadata": {
    "papermill": {
     "duration": 0.046303,
     "end_time": "2022-04-12T13:51:25.921322",
     "exception": false,
     "start_time": "2022-04-12T13:51:25.875019",
     "status": "completed"
    },
    "tags": []
   },
   "source": [
    "## Step 5: Chocolate!\n",
    "\n",
    "In the code cell below, create a scatter plot to show the relationship between `'pricepercent'` (on the horizontal x-axis) and `'winpercent'` (on the vertical y-axis). Use the `'chocolate'` column to color-code the points.  _Don't add any regression lines just yet -- you'll do that in the next step!_"
   ]
  },
  {
   "cell_type": "code",
   "execution_count": 16,
   "id": "b06a979c",
   "metadata": {
    "execution": {
     "iopub.execute_input": "2022-04-12T13:51:26.015905Z",
     "iopub.status.busy": "2022-04-12T13:51:26.015263Z",
     "iopub.status.idle": "2022-04-12T13:51:26.309311Z",
     "shell.execute_reply": "2022-04-12T13:51:26.309923Z",
     "shell.execute_reply.started": "2022-04-12T13:36:23.325762Z"
    },
    "papermill": {
     "duration": 0.34302,
     "end_time": "2022-04-12T13:51:26.310103",
     "exception": false,
     "start_time": "2022-04-12T13:51:25.967083",
     "status": "completed"
    },
    "tags": []
   },
   "outputs": [
    {
     "data": {
      "application/javascript": [
       "parent.postMessage({\"jupyterEvent\": \"custom.exercise_interaction\", \"data\": {\"outcomeType\": 1, \"valueTowardsCompletion\": 0.3333333333333333, \"interactionType\": 1, \"questionType\": 2, \"questionId\": \"5_ColorScatter\", \"learnToolsVersion\": \"0.3.4\", \"failureMessage\": \"\", \"exceptionClass\": \"\", \"trace\": \"\"}}, \"*\")"
      ],
      "text/plain": [
       "<IPython.core.display.Javascript object>"
      ]
     },
     "metadata": {},
     "output_type": "display_data"
    },
    {
     "data": {
      "text/markdown": [
       "<span style=\"color:#33cc33\">Correct</span>"
      ],
      "text/plain": [
       "Correct"
      ]
     },
     "metadata": {},
     "output_type": "display_data"
    },
    {
     "data": {
      "image/png": "[encoded data removed]",
      "text/plain": [
       "<Figure size 432x288 with 1 Axes>"
      ]
     },
     "metadata": {
      "needs_background": "light"
     },
     "output_type": "display_data"
    }
   ],
   "source": [
    "# Scatter plot showing the relationship between 'pricepercent', 'winpercent', and 'chocolate'\n",
    "sns.scatterplot(x=candy_data['pricepercent'],y=candy_data['winpercent'], hue=candy_data['chocolate']) # Your code here\n",
    "\n",
    "# Check your answer\n",
    "step_5.check()"
   ]
  },
  {
   "cell_type": "code",
   "execution_count": 17,
   "id": "43b16e0c",
   "metadata": {
    "execution": {
     "iopub.execute_input": "2022-04-12T13:51:26.411212Z",
     "iopub.status.busy": "2022-04-12T13:51:26.410562Z",
     "iopub.status.idle": "2022-04-12T13:51:26.413362Z",
     "shell.execute_reply": "2022-04-12T13:51:26.413911Z",
     "shell.execute_reply.started": "2022-04-12T13:36:43.930516Z"
    },
    "papermill": {
     "duration": 0.054121,
     "end_time": "2022-04-12T13:51:26.414089",
     "exception": false,
     "start_time": "2022-04-12T13:51:26.359968",
     "status": "completed"
    },
    "tags": []
   },
   "outputs": [],
   "source": [
    "# Lines below will give you a hint or solution code\n",
    "#step_5.hint()\n",
    "#step_5.solution_plot()"
   ]
  },
  {
   "cell_type": "markdown",
   "id": "66201443",
   "metadata": {
    "papermill": {
     "duration": 0.047857,
     "end_time": "2022-04-12T13:51:26.510514",
     "exception": false,
     "start_time": "2022-04-12T13:51:26.462657",
     "status": "completed"
    },
    "tags": []
   },
   "source": [
    "Can you see any interesting patterns in the scatter plot?  We'll investigate this plot further  by adding regression lines in the next step!\n",
    "\n",
    "## Step 6: Investigate chocolate\n",
    "\n",
    "#### Part A\n",
    "\n",
    "Create the same scatter plot you created in **Step 5**, but now with two regression lines, corresponding to (1) chocolate candies and (2) candies without chocolate."
   ]
  },
  {
   "cell_type": "code",
   "execution_count": 18,
   "id": "7908ee4c",
   "metadata": {
    "execution": {
     "iopub.execute_input": "2022-04-12T13:51:26.611819Z",
     "iopub.status.busy": "2022-04-12T13:51:26.611181Z",
     "iopub.status.idle": "2022-04-12T13:51:27.279523Z",
     "shell.execute_reply": "2022-04-12T13:51:27.278946Z",
     "shell.execute_reply.started": "2022-04-12T13:38:39.513458Z"
    },
    "papermill": {
     "duration": 0.719622,
     "end_time": "2022-04-12T13:51:27.279662",
     "exception": false,
     "start_time": "2022-04-12T13:51:26.560040",
     "status": "completed"
    },
    "tags": []
   },
   "outputs": [
    {
     "data": {
      "application/javascript": [
       "parent.postMessage({\"jupyterEvent\": \"custom.exercise_interaction\", \"data\": {\"outcomeType\": 1, \"valueTowardsCompletion\": 0.3333333333333333, \"interactionType\": 1, \"questionType\": 2, \"questionId\": \"6.1_PlotColorReg\", \"learnToolsVersion\": \"0.3.4\", \"failureMessage\": \"\", \"exceptionClass\": \"\", \"trace\": \"\"}}, \"*\")"
      ],
      "text/plain": [
       "<IPython.core.display.Javascript object>"
      ]
     },
     "metadata": {},
     "output_type": "display_data"
    },
    {
     "data": {
      "text/markdown": [
       "<span style=\"color:#33cc33\">Correct</span>"
      ],
      "text/plain": [
       "Correct"
      ]
     },
     "metadata": {},
     "output_type": "display_data"
    },
    {
     "data": {
      "image/png": "[encoded data removed]",
      "text/plain": [
       "<Figure size 416.375x360 with 1 Axes>"
      ]
     },
     "metadata": {
      "needs_background": "light"
     },
     "output_type": "display_data"
    }
   ],
   "source": [
    "# Color-coded scatter plot w/ regression lines\n",
    "sns.lmplot(x='pricepercent',y='winpercent',hue='chocolate',data=candy_data) # Your code here\n",
    "\n",
    "# Check your answer\n",
    "step_6.a.check()"
   ]
  },
  {
   "cell_type": "code",
   "execution_count": 19,
   "id": "ccb6f1b3",
   "metadata": {
    "execution": {
     "iopub.execute_input": "2022-04-12T13:51:27.383815Z",
     "iopub.status.busy": "2022-04-12T13:51:27.383213Z",
     "iopub.status.idle": "2022-04-12T13:51:27.385870Z",
     "shell.execute_reply": "2022-04-12T13:51:27.386435Z",
     "shell.execute_reply.started": "2022-04-12T13:38:57.467854Z"
    },
    "papermill": {
     "duration": 0.056389,
     "end_time": "2022-04-12T13:51:27.386607",
     "exception": false,
     "start_time": "2022-04-12T13:51:27.330218",
     "status": "completed"
    },
    "tags": []
   },
   "outputs": [],
   "source": [
    "# Lines below will give you a hint or solution code\n",
    "#step_6.a.hint()\n",
    "#step_6.a.solution_plot()"
   ]
  },
  {
   "cell_type": "markdown",
   "id": "9c465a84",
   "metadata": {
    "papermill": {
     "duration": 0.049637,
     "end_time": "2022-04-12T13:51:27.486636",
     "exception": false,
     "start_time": "2022-04-12T13:51:27.436999",
     "status": "completed"
    },
    "tags": []
   },
   "source": [
    "#### Part B\n",
    "\n",
    "Using the regression lines, what conclusions can you draw about the effects of chocolate and price on candy popularity?"
   ]
  },
  {
   "cell_type": "code",
   "execution_count": 20,
   "id": "15903a82",
   "metadata": {
    "execution": {
     "iopub.execute_input": "2022-04-12T13:51:27.590195Z",
     "iopub.status.busy": "2022-04-12T13:51:27.589564Z",
     "iopub.status.idle": "2022-04-12T13:51:27.592420Z",
     "shell.execute_reply": "2022-04-12T13:51:27.592910Z",
     "shell.execute_reply.started": "2022-04-12T13:39:01.245271Z"
    },
    "papermill": {
     "duration": 0.056441,
     "end_time": "2022-04-12T13:51:27.593067",
     "exception": false,
     "start_time": "2022-04-12T13:51:27.536626",
     "status": "completed"
    },
    "tags": []
   },
   "outputs": [],
   "source": [
    "#step_6.b.hint()"
   ]
  },
  {
   "cell_type": "code",
   "execution_count": 21,
   "id": "3ac4aa5f",
   "metadata": {
    "execution": {
     "iopub.execute_input": "2022-04-12T13:51:27.696549Z",
     "iopub.status.busy": "2022-04-12T13:51:27.695950Z",
     "iopub.status.idle": "2022-04-12T13:51:27.701470Z",
     "shell.execute_reply": "2022-04-12T13:51:27.701987Z",
     "shell.execute_reply.started": "2022-04-12T13:39:01.812985Z"
    },
    "papermill": {
     "duration": 0.058581,
     "end_time": "2022-04-12T13:51:27.702157",
     "exception": false,
     "start_time": "2022-04-12T13:51:27.643576",
     "status": "completed"
    },
    "tags": []
   },
   "outputs": [
    {
     "data": {
      "application/javascript": [
       "parent.postMessage({\"jupyterEvent\": \"custom.exercise_interaction\", \"data\": {\"interactionType\": 3, \"questionType\": 4, \"questionId\": \"6.2_ThinkColorReg\", \"learnToolsVersion\": \"0.3.4\", \"valueTowardsCompletion\": 0.0, \"failureMessage\": \"\", \"exceptionClass\": \"\", \"trace\": \"\", \"outcomeType\": 4}}, \"*\")"
      ],
      "text/plain": [
       "<IPython.core.display.Javascript object>"
      ]
     },
     "metadata": {},
     "output_type": "display_data"
    },
    {
     "data": {
      "text/markdown": [
       "<span style=\"color:#33cc99\">Solution:</span> We'll begin with the regression line for chocolate candies. Since this line has a slightly positive slope, we can say that more expensive chocolate candies tend to be more popular (than relatively cheaper chocolate candies).  Likewise, since the regression line for candies without chocolate has a negative slope, we can say that if candies don't contain chocolate, they tend to be more popular when they are cheaper.  One important note, however, is that the dataset is quite small -- so we shouldn't invest too much trust in these patterns!  To inspire more confidence in the results, we should add more candies to the dataset."
      ],
      "text/plain": [
       "Solution: We'll begin with the regression line for chocolate candies. Since this line has a slightly positive slope, we can say that more expensive chocolate candies tend to be more popular (than relatively cheaper chocolate candies).  Likewise, since the regression line for candies without chocolate has a negative slope, we can say that if candies don't contain chocolate, they tend to be more popular when they are cheaper.  One important note, however, is that the dataset is quite small -- so we shouldn't invest too much trust in these patterns!  To inspire more confidence in the results, we should add more candies to the dataset."
      ]
     },
     "metadata": {},
     "output_type": "display_data"
    }
   ],
   "source": [
    "# Check your answer (Run this code cell to receive credit!)\n",
    "step_6.b.solution()"
   ]
  },
  {
   "cell_type": "markdown",
   "id": "3bacb40c",
   "metadata": {
    "papermill": {
     "duration": 0.051532,
     "end_time": "2022-04-12T13:51:27.805368",
     "exception": false,
     "start_time": "2022-04-12T13:51:27.753836",
     "status": "completed"
    },
    "tags": []
   },
   "source": [
    "## Step 7: Everybody loves chocolate.\n",
    "\n",
    "#### Part A\n",
    "\n",
    "Create a categorical scatter plot to highlight the relationship between `'chocolate'` and `'winpercent'`.  Put `'chocolate'` on the (horizontal) x-axis, and `'winpercent'` on the (vertical) y-axis."
   ]
  },
  {
   "cell_type": "code",
   "execution_count": 22,
   "id": "a958076b",
   "metadata": {
    "execution": {
     "iopub.execute_input": "2022-04-12T13:51:27.912115Z",
     "iopub.status.busy": "2022-04-12T13:51:27.911442Z",
     "iopub.status.idle": "2022-04-12T13:51:28.114758Z",
     "shell.execute_reply": "2022-04-12T13:51:28.115243Z",
     "shell.execute_reply.started": "2022-04-12T13:40:52.236334Z"
    },
    "papermill": {
     "duration": 0.258423,
     "end_time": "2022-04-12T13:51:28.115416",
     "exception": false,
     "start_time": "2022-04-12T13:51:27.856993",
     "status": "completed"
    },
    "tags": []
   },
   "outputs": [
    {
     "data": {
      "application/javascript": [
       "parent.postMessage({\"jupyterEvent\": \"custom.exercise_interaction\", \"data\": {\"outcomeType\": 1, \"valueTowardsCompletion\": 0.3333333333333333, \"interactionType\": 1, \"questionType\": 2, \"questionId\": \"7.1_PlotSwarm\", \"learnToolsVersion\": \"0.3.4\", \"failureMessage\": \"\", \"exceptionClass\": \"\", \"trace\": \"\"}}, \"*\")"
      ],
      "text/plain": [
       "<IPython.core.display.Javascript object>"
      ]
     },
     "metadata": {},
     "output_type": "display_data"
    },
    {
     "data": {
      "text/markdown": [
       "<span style=\"color:#33cc33\">Correct</span>"
      ],
      "text/plain": [
       "Correct"
      ]
     },
     "metadata": {},
     "output_type": "display_data"
    },
    {
     "data": {
      "image/png": "[encoded data removed]",
      "text/plain": [
       "<Figure size 432x288 with 1 Axes>"
      ]
     },
     "metadata": {
      "needs_background": "light"
     },
     "output_type": "display_data"
    }
   ],
   "source": [
    "# Scatter plot showing the relationship between 'chocolate' and 'winpercent'\n",
    "sns.swarmplot(x=candy_data['chocolate'],y=candy_data['winpercent']) # Your code here\n",
    "\n",
    "# Check your answer\n",
    "step_7.a.check()"
   ]
  },
  {
   "cell_type": "code",
   "execution_count": 23,
   "id": "270c52bb",
   "metadata": {
    "execution": {
     "iopub.execute_input": "2022-04-12T13:51:28.225886Z",
     "iopub.status.busy": "2022-04-12T13:51:28.225268Z",
     "iopub.status.idle": "2022-04-12T13:51:28.227827Z",
     "shell.execute_reply": "2022-04-12T13:51:28.228335Z",
     "shell.execute_reply.started": "2022-04-12T13:41:07.099781Z"
    },
    "papermill": {
     "duration": 0.059186,
     "end_time": "2022-04-12T13:51:28.228489",
     "exception": false,
     "start_time": "2022-04-12T13:51:28.169303",
     "status": "completed"
    },
    "tags": []
   },
   "outputs": [],
   "source": [
    "# Lines below will give you a hint or solution code\n",
    "#step_7.a.hint()\n",
    "#step_7.a.solution_plot()"
   ]
  },
  {
   "cell_type": "markdown",
   "id": "38a40f35",
   "metadata": {
    "papermill": {
     "duration": 0.053259,
     "end_time": "2022-04-12T13:51:28.335603",
     "exception": false,
     "start_time": "2022-04-12T13:51:28.282344",
     "status": "completed"
    },
    "tags": []
   },
   "source": [
    "#### Part B\n",
    "\n",
    "You decide to dedicate a section of your report to the fact that chocolate candies tend to be more popular than candies without chocolate.  Which plot is more appropriate to tell this story: the plot from **Step 6**, or the plot from **Step 7**?"
   ]
  },
  {
   "cell_type": "code",
   "execution_count": 24,
   "id": "bd1bf634",
   "metadata": {
    "execution": {
     "iopub.execute_input": "2022-04-12T13:51:28.447120Z",
     "iopub.status.busy": "2022-04-12T13:51:28.445869Z",
     "iopub.status.idle": "2022-04-12T13:51:28.448859Z",
     "shell.execute_reply": "2022-04-12T13:51:28.449414Z",
     "shell.execute_reply.started": "2022-04-12T13:41:15.457502Z"
    },
    "papermill": {
     "duration": 0.060227,
     "end_time": "2022-04-12T13:51:28.449569",
     "exception": false,
     "start_time": "2022-04-12T13:51:28.389342",
     "status": "completed"
    },
    "tags": []
   },
   "outputs": [],
   "source": [
    "#step_7.b.hint()"
   ]
  },
  {
   "cell_type": "code",
   "execution_count": 25,
   "id": "8aadbfb0",
   "metadata": {
    "execution": {
     "iopub.execute_input": "2022-04-12T13:51:28.559941Z",
     "iopub.status.busy": "2022-04-12T13:51:28.559333Z",
     "iopub.status.idle": "2022-04-12T13:51:28.566180Z",
     "shell.execute_reply": "2022-04-12T13:51:28.566710Z",
     "shell.execute_reply.started": "2022-04-12T13:41:18.439079Z"
    },
    "papermill": {
     "duration": 0.063729,
     "end_time": "2022-04-12T13:51:28.566916",
     "exception": false,
     "start_time": "2022-04-12T13:51:28.503187",
     "status": "completed"
    },
    "tags": []
   },
   "outputs": [
    {
     "data": {
      "application/javascript": [
       "parent.postMessage({\"jupyterEvent\": \"custom.exercise_interaction\", \"data\": {\"interactionType\": 3, \"questionType\": 4, \"questionId\": \"7.2_ThinkSwarm\", \"learnToolsVersion\": \"0.3.4\", \"valueTowardsCompletion\": 0.0, \"failureMessage\": \"\", \"exceptionClass\": \"\", \"trace\": \"\", \"outcomeType\": 4}}, \"*\")"
      ],
      "text/plain": [
       "<IPython.core.display.Javascript object>"
      ]
     },
     "metadata": {},
     "output_type": "display_data"
    },
    {
     "data": {
      "text/markdown": [
       "<span style=\"color:#33cc99\">Solution:</span> In this case, the categorical scatter plot from **Step 7** is the more appropriate plot. While both plots tell the desired story, the plot from **Step 6** conveys far more information that could distract from the main point."
      ],
      "text/plain": [
       "Solution: In this case, the categorical scatter plot from **Step 7** is the more appropriate plot. While both plots tell the desired story, the plot from **Step 6** conveys far more information that could distract from the main point."
      ]
     },
     "metadata": {},
     "output_type": "display_data"
    }
   ],
   "source": [
    "# Check your answer (Run this code cell to receive credit!)\n",
    "step_7.b.solution()"
   ]
  },
  {
   "cell_type": "markdown",
   "id": "87aad983",
   "metadata": {
    "papermill": {
     "duration": 0.054846,
     "end_time": "2022-04-12T13:51:28.677257",
     "exception": false,
     "start_time": "2022-04-12T13:51:28.622411",
     "status": "completed"
    },
    "tags": []
   },
   "source": [
    "## Keep going\n",
    "\n",
    "Explore **[histograms and density plots](https://www.kaggle.com/alexisbcook/distributions)**."
   ]
  },
  {
   "cell_type": "markdown",
   "id": "c9433619",
   "metadata": {
    "papermill": {
     "duration": 0.054794,
     "end_time": "2022-04-12T13:51:28.787111",
     "exception": false,
     "start_time": "2022-04-12T13:51:28.732317",
     "status": "completed"
    },
    "tags": []
   },
   "source": [
    "---\n",
    "\n",
    "\n",
    "\n",
    "\n",
    "*Have questions or comments? Visit the [course discussion forum](https://www.kaggle.com/learn/data-visualization/discussion) to chat with other learners.*"
   ]
  }
 ],
 "metadata": {
  "kernelspec": {
   "display_name": "Python 3",
   "language": "python",
   "name": "python3"
  },
  "language_info": {
   "codemirror_mode": {
    "name": "ipython",
    "version": 3
   },
   "file_extension": ".py",
   "mimetype": "text/x-python",
   "name": "python",
   "nbconvert_exporter": "python",
   "pygments_lexer": "ipython3",
   "version": "3.7.12"
  },
  "papermill": {
   "default_parameters": {},
   "duration": 17.492016,
   "end_time": "2022-04-12T13:51:29.554217",
   "environment_variables": {},
   "exception": null,
   "input_path": "__notebook__.ipynb",
   "output_path": "__notebook__.ipynb",
   "parameters": {},
   "start_time": "2022-04-12T13:51:12.062201",
   "version": "2.3.3"
  }
 },
 "nbformat": 4,
 "nbformat_minor": 5
}

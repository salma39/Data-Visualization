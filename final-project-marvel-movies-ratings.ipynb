{
 "cells": [
  {
   "cell_type": "markdown",
   "id": "5111330c",
   "metadata": {
    "papermill": {
     "duration": 0.015385,
     "end_time": "2022-04-12T15:13:19.334013",
     "exception": false,
     "start_time": "2022-04-12T15:13:19.318628",
     "status": "completed"
    },
    "tags": []
   },
   "source": [
    "**This notebook is an exercise in the [Data Visualization](https://www.kaggle.com/learn/data-visualization) course.  You can reference the tutorial at [this link](https://www.kaggle.com/alexisbcook/final-project).**\n",
    "\n",
    "---\n"
   ]
  },
  {
   "cell_type": "markdown",
   "id": "f4ed270e",
   "metadata": {
    "papermill": {
     "duration": 0.014987,
     "end_time": "2022-04-12T15:13:19.364030",
     "exception": false,
     "start_time": "2022-04-12T15:13:19.349043",
     "status": "completed"
    },
    "tags": []
   },
   "source": [
    "Now it's time for you to demonstrate your new skills with a project of your own!\n",
    "\n",
    "In this exercise, you will work with a dataset of your choosing.  Once you've selected a dataset, you'll design and create your own plot to tell interesting stories behind the data!\n",
    "\n",
    "## Setup\n",
    "\n",
    "Run the next cell to import and configure the Python libraries that you need to complete the exercise."
   ]
  },
  {
   "cell_type": "code",
   "execution_count": 1,
   "id": "e527ef50",
   "metadata": {
    "execution": {
     "iopub.execute_input": "2022-04-12T15:13:19.404563Z",
     "iopub.status.busy": "2022-04-12T15:13:19.403833Z",
     "iopub.status.idle": "2022-04-12T15:13:20.488327Z",
     "shell.execute_reply": "2022-04-12T15:13:20.487512Z",
     "shell.execute_reply.started": "2022-04-12T14:44:17.461019Z"
    },
    "papermill": {
     "duration": 1.110022,
     "end_time": "2022-04-12T15:13:20.488521",
     "exception": false,
     "start_time": "2022-04-12T15:13:19.378499",
     "status": "completed"
    },
    "tags": []
   },
   "outputs": [
    {
     "name": "stdout",
     "output_type": "stream",
     "text": [
      "Setup Complete\n"
     ]
    }
   ],
   "source": [
    "import pandas as pd\n",
    "pd.plotting.register_matplotlib_converters()\n",
    "import matplotlib.pyplot as plt\n",
    "%matplotlib inline\n",
    "import seaborn as sns\n",
    "print(\"Setup Complete\")"
   ]
  },
  {
   "cell_type": "markdown",
   "id": "0286be0b",
   "metadata": {
    "papermill": {
     "duration": 0.014288,
     "end_time": "2022-04-12T15:13:20.518413",
     "exception": false,
     "start_time": "2022-04-12T15:13:20.504125",
     "status": "completed"
    },
    "tags": []
   },
   "source": [
    "The questions below will give you feedback on your work. Run the following cell to set up the feedback system."
   ]
  },
  {
   "cell_type": "code",
   "execution_count": 2,
   "id": "7b635b5b",
   "metadata": {
    "execution": {
     "iopub.execute_input": "2022-04-12T15:13:20.553467Z",
     "iopub.status.busy": "2022-04-12T15:13:20.552725Z",
     "iopub.status.idle": "2022-04-12T15:13:20.591412Z",
     "shell.execute_reply": "2022-04-12T15:13:20.591980Z",
     "shell.execute_reply.started": "2022-04-12T14:44:19.489505Z"
    },
    "papermill": {
     "duration": 0.059108,
     "end_time": "2022-04-12T15:13:20.592158",
     "exception": false,
     "start_time": "2022-04-12T15:13:20.533050",
     "status": "completed"
    },
    "tags": []
   },
   "outputs": [
    {
     "name": "stdout",
     "output_type": "stream",
     "text": [
      "Setup Complete\n"
     ]
    }
   ],
   "source": [
    "# Set up code checking\n",
    "from learntools.core import binder\n",
    "binder.bind(globals())\n",
    "from learntools.data_viz_to_coder.ex7 import *\n",
    "print(\"Setup Complete\")"
   ]
  },
  {
   "cell_type": "markdown",
   "id": "4fc61658",
   "metadata": {
    "papermill": {
     "duration": 0.014555,
     "end_time": "2022-04-12T15:13:20.622204",
     "exception": false,
     "start_time": "2022-04-12T15:13:20.607649",
     "status": "completed"
    },
    "tags": []
   },
   "source": [
    "## Step 1: Attach a dataset to the notebook\n",
    "\n",
    "Begin by selecting a CSV dataset from [Kaggle Datasets](https://www.kaggle.com/datasets).  If you're unsure how to do this, please revisit the instructions in the previous tutorial.\n",
    "\n",
    "Once you have selected a dataset, click on the **[+ Add data]** option in the top right corner.  This will generate a pop-up window that you can use to search for your chosen dataset.  \n",
    "\n",
    "![ex6_search_dataset](https://i.imgur.com/cIIWPUS.png)\n",
    "\n",
    "Once you have found the dataset, click on the **[Add]** button to attach it to the notebook.  You can check that it was successful by looking at the **Data** dropdown menu to the right of the notebook -- look for an **input** folder containing a subfolder that matches the name of the dataset.\n",
    "\n",
    "<center>\n",
    "<img src=\"https://i.imgur.com/nMYc1Nu.png\" width=30%><br/>\n",
    "</center>\n",
    "\n",
    "You can click on the carat to the left of the name of the dataset to double-check that it contains a CSV file.  For instance, the image below shows that the example dataset contains two CSV files: (1) **dc-wikia-data.csv**, and (2) **marvel-wikia-data.csv**.\n",
    "\n",
    "<center>\n",
    "<img src=\"https://i.imgur.com/B4sJkVA.png\" width=30%><br/>\n",
    "</center>\n",
    "\n",
    "Once you've uploaded a dataset with a CSV file, run the code cell below **without changes** to receive credit for your work!"
   ]
  },
  {
   "cell_type": "code",
   "execution_count": 3,
   "id": "ecb15e19",
   "metadata": {
    "execution": {
     "iopub.execute_input": "2022-04-12T15:13:20.655512Z",
     "iopub.status.busy": "2022-04-12T15:13:20.654622Z",
     "iopub.status.idle": "2022-04-12T15:13:20.669044Z",
     "shell.execute_reply": "2022-04-12T15:13:20.668392Z",
     "shell.execute_reply.started": "2022-04-12T15:08:07.532659Z"
    },
    "papermill": {
     "duration": 0.032183,
     "end_time": "2022-04-12T15:13:20.669188",
     "exception": false,
     "start_time": "2022-04-12T15:13:20.637005",
     "status": "completed"
    },
    "tags": []
   },
   "outputs": [
    {
     "data": {
      "application/javascript": [
       "parent.postMessage({\"jupyterEvent\": \"custom.exercise_interaction\", \"data\": {\"outcomeType\": 1, \"valueTowardsCompletion\": 0.25, \"interactionType\": 1, \"questionType\": 2, \"questionId\": \"1_AttachData\", \"learnToolsVersion\": \"0.3.4\", \"failureMessage\": \"\", \"exceptionClass\": \"\", \"trace\": \"\"}}, \"*\")"
      ],
      "text/plain": [
       "<IPython.core.display.Javascript object>"
      ]
     },
     "metadata": {},
     "output_type": "display_data"
    },
    {
     "data": {
      "text/markdown": [
       "<span style=\"color:#33cc33\">Correct:</span> \n",
       "\n"
      ],
      "text/plain": [
       "Correct: \n"
      ]
     },
     "metadata": {},
     "output_type": "display_data"
    }
   ],
   "source": [
    "# Check for a dataset with a CSV file\n",
    "step_1.check()"
   ]
  },
  {
   "cell_type": "markdown",
   "id": "102d88a3",
   "metadata": {
    "papermill": {
     "duration": 0.017113,
     "end_time": "2022-04-12T15:13:20.702450",
     "exception": false,
     "start_time": "2022-04-12T15:13:20.685337",
     "status": "completed"
    },
    "tags": []
   },
   "source": [
    "## Step 2: Specify the filepath\n",
    "\n",
    "Now that the dataset is attached to the notebook, you can find its filepath.  To do this, begin by clicking on the CSV file you'd like to use.  This will open the CSV file in a tab below the notebook.  You can find the filepath towards the top of this new tab.  \n",
    "\n",
    "![ex6_filepath](https://i.imgur.com/fgXQV47.png)\n",
    "\n",
    "After you find the filepath corresponding to your dataset, fill it in as the value for `my_filepath` in the code cell below, and run the code cell to check that you've provided a valid filepath.  For instance, in the case of this example dataset, we would set\n",
    "```\n",
    "my_filepath = \"../input/fivethirtyeight-comic-characters-dataset/dc-wikia-data.csv\"\n",
    "```  \n",
    "Note that **you must enclose the filepath in quotation marks**; otherwise, the code will return an error.\n",
    "\n",
    "Once you've entered the filepath, you can close the tab below the notebook by clicking on the **[X]** at the top of the tab."
   ]
  },
  {
   "cell_type": "code",
   "execution_count": 4,
   "id": "1c4508ea",
   "metadata": {
    "execution": {
     "iopub.execute_input": "2022-04-12T15:13:20.743614Z",
     "iopub.status.busy": "2022-04-12T15:13:20.742910Z",
     "iopub.status.idle": "2022-04-12T15:13:20.748567Z",
     "shell.execute_reply": "2022-04-12T15:13:20.749218Z",
     "shell.execute_reply.started": "2022-04-12T15:08:34.890209Z"
    },
    "papermill": {
     "duration": 0.02894,
     "end_time": "2022-04-12T15:13:20.749404",
     "exception": false,
     "start_time": "2022-04-12T15:13:20.720464",
     "status": "completed"
    },
    "tags": []
   },
   "outputs": [
    {
     "data": {
      "application/javascript": [
       "parent.postMessage({\"jupyterEvent\": \"custom.exercise_interaction\", \"data\": {\"outcomeType\": 1, \"valueTowardsCompletion\": 0.25, \"interactionType\": 1, \"questionType\": 2, \"questionId\": \"2_Filepath\", \"learnToolsVersion\": \"0.3.4\", \"failureMessage\": \"\", \"exceptionClass\": \"\", \"trace\": \"\"}}, \"*\")"
      ],
      "text/plain": [
       "<IPython.core.display.Javascript object>"
      ]
     },
     "metadata": {},
     "output_type": "display_data"
    },
    {
     "data": {
      "text/markdown": [
       "<span style=\"color:#33cc33\">Correct:</span> \n",
       "\n"
      ],
      "text/plain": [
       "Correct: \n"
      ]
     },
     "metadata": {},
     "output_type": "display_data"
    }
   ],
   "source": [
    "# Fill in the line below: Specify the path of the CSV file to read\n",
    "my_filepath = '../input/all-marvel-cinematic-universe-movies-on-imdb/imdb_com_movie_data_promotion_promptcloud_master_deduped_n-20190529_123020337730168__0 2.csv'\n",
    "\n",
    "# Check for a valid filepath to a CSV file in a dataset\n",
    "step_2.check()"
   ]
  },
  {
   "cell_type": "markdown",
   "id": "8c4b20b7",
   "metadata": {
    "papermill": {
     "duration": 0.01721,
     "end_time": "2022-04-12T15:13:20.784835",
     "exception": false,
     "start_time": "2022-04-12T15:13:20.767625",
     "status": "completed"
    },
    "tags": []
   },
   "source": [
    "## Step 3: Load the data\n",
    "\n",
    "Use the next code cell to load your data file into `my_data`.  Use the filepath that you specified in the previous step."
   ]
  },
  {
   "cell_type": "code",
   "execution_count": 5,
   "id": "8730ae9a",
   "metadata": {
    "execution": {
     "iopub.execute_input": "2022-04-12T15:13:20.823171Z",
     "iopub.status.busy": "2022-04-12T15:13:20.822521Z",
     "iopub.status.idle": "2022-04-12T15:13:20.842489Z",
     "shell.execute_reply": "2022-04-12T15:13:20.843053Z",
     "shell.execute_reply.started": "2022-04-12T15:09:17.784671Z"
    },
    "papermill": {
     "duration": 0.040924,
     "end_time": "2022-04-12T15:13:20.843230",
     "exception": false,
     "start_time": "2022-04-12T15:13:20.802306",
     "status": "completed"
    },
    "tags": []
   },
   "outputs": [
    {
     "data": {
      "application/javascript": [
       "parent.postMessage({\"jupyterEvent\": \"custom.exercise_interaction\", \"data\": {\"outcomeType\": 1, \"valueTowardsCompletion\": 0.25, \"interactionType\": 1, \"questionType\": 2, \"questionId\": \"3_LoadData\", \"learnToolsVersion\": \"0.3.4\", \"failureMessage\": \"\", \"exceptionClass\": \"\", \"trace\": \"\"}}, \"*\")"
      ],
      "text/plain": [
       "<IPython.core.display.Javascript object>"
      ]
     },
     "metadata": {},
     "output_type": "display_data"
    },
    {
     "data": {
      "text/markdown": [
       "<span style=\"color:#33cc33\">Correct:</span> \n",
       "\n"
      ],
      "text/plain": [
       "Correct: \n"
      ]
     },
     "metadata": {},
     "output_type": "display_data"
    }
   ],
   "source": [
    "# Fill in the line below: Read the file into a variable my_data\n",
    "my_data = pd.read_csv(my_filepath)\n",
    "\n",
    "# Check that a dataset has been uploaded into my_data\n",
    "step_3.check()"
   ]
  },
  {
   "cell_type": "markdown",
   "id": "2070d43a",
   "metadata": {
    "papermill": {
     "duration": 0.018986,
     "end_time": "2022-04-12T15:13:20.881156",
     "exception": false,
     "start_time": "2022-04-12T15:13:20.862170",
     "status": "completed"
    },
    "tags": []
   },
   "source": [
    "**_After the code cell above is marked correct_**, run the code cell below without changes to view the first five rows of the data."
   ]
  },
  {
   "cell_type": "code",
   "execution_count": 6,
   "id": "2faec78c",
   "metadata": {
    "execution": {
     "iopub.execute_input": "2022-04-12T15:13:20.927777Z",
     "iopub.status.busy": "2022-04-12T15:13:20.927120Z",
     "iopub.status.idle": "2022-04-12T15:13:20.954532Z",
     "shell.execute_reply": "2022-04-12T15:13:20.953925Z",
     "shell.execute_reply.started": "2022-04-12T15:09:23.162663Z"
    },
    "papermill": {
     "duration": 0.054033,
     "end_time": "2022-04-12T15:13:20.954674",
     "exception": false,
     "start_time": "2022-04-12T15:13:20.900641",
     "status": "completed"
    },
    "tags": []
   },
   "outputs": [
    {
     "data": {
      "text/html": [
       "<div>\n",
       "<style scoped>\n",
       "    .dataframe tbody tr th:only-of-type {\n",
       "        vertical-align: middle;\n",
       "    }\n",
       "\n",
       "    .dataframe tbody tr th {\n",
       "        vertical-align: top;\n",
       "    }\n",
       "\n",
       "    .dataframe thead th {\n",
       "        text-align: right;\n",
       "    }\n",
       "</style>\n",
       "<table border=\"1\" class=\"dataframe\">\n",
       "  <thead>\n",
       "    <tr style=\"text-align: right;\">\n",
       "      <th></th>\n",
       "      <th>Uniq Id</th>\n",
       "      <th>Crawl Timestamp</th>\n",
       "      <th>Pageurl</th>\n",
       "      <th>Title</th>\n",
       "      <th>Genres</th>\n",
       "      <th>Release Date</th>\n",
       "      <th>Movie Rating</th>\n",
       "      <th>Review Rating</th>\n",
       "      <th>Movie Run Time</th>\n",
       "      <th>Plot</th>\n",
       "      <th>Cast</th>\n",
       "      <th>Language</th>\n",
       "      <th>Filming Locations</th>\n",
       "      <th>Budget</th>\n",
       "      <th>Collection</th>\n",
       "      <th>Collection Date</th>\n",
       "    </tr>\n",
       "  </thead>\n",
       "  <tbody>\n",
       "    <tr>\n",
       "      <th>0</th>\n",
       "      <td>bdce103d6c8ee8206477f5ef43cdd6cf</td>\n",
       "      <td>2019-05-29 12:32:00 +0000</td>\n",
       "      <td>https://www.imdb.com/title/tt6791350/</td>\n",
       "      <td>Guardians of the Galaxy Vol. 3 (2021) - IMDb</td>\n",
       "      <td>NaN</td>\n",
       "      <td>NaN</td>\n",
       "      <td>NaN</td>\n",
       "      <td>NaN</td>\n",
       "      <td>NaN</td>\n",
       "      <td>Directed by James Gunn. With Elizabeth Debicki...</td>\n",
       "      <td>NaN</td>\n",
       "      <td>English</td>\n",
       "      <td>NaN</td>\n",
       "      <td>NaN</td>\n",
       "      <td>NaN</td>\n",
       "      <td>NaN</td>\n",
       "    </tr>\n",
       "    <tr>\n",
       "      <th>1</th>\n",
       "      <td>90bd11174adf73475d088f93a2da28da</td>\n",
       "      <td>2019-05-29 12:30:33 +0000</td>\n",
       "      <td>https://www.imdb.com/title/tt1228705/</td>\n",
       "      <td>Iron Man 2 (2010) - IMDb</td>\n",
       "      <td>Action|Adventure|Sci-Fi</td>\n",
       "      <td>7 May 2010 (USA)</td>\n",
       "      <td>PG-13</td>\n",
       "      <td>7.0</td>\n",
       "      <td>124 min</td>\n",
       "      <td>Directed by Jon Favreau. With Robert Downey Jr...</td>\n",
       "      <td>Robert Downey Jr.|Mickey Rourke|Gwyneth Paltro...</td>\n",
       "      <td>English|French|Russian</td>\n",
       "      <td>D.C. Stages, 1360 East 6th Street, Downtown, L...</td>\n",
       "      <td>$200,000,000</td>\n",
       "      <td>$623,933,331,</td>\n",
       "      <td>19 August 2010</td>\n",
       "    </tr>\n",
       "    <tr>\n",
       "      <th>2</th>\n",
       "      <td>df6fc7d029a7e5c214509cbfb513d283</td>\n",
       "      <td>2019-05-29 12:31:05 +0000</td>\n",
       "      <td>https://www.imdb.com/title/tt2015381/</td>\n",
       "      <td>Guardians of the Galaxy (2014) - IMDb</td>\n",
       "      <td>Action|Adventure|Comedy|Sci-Fi</td>\n",
       "      <td>1 August 2014 (USA)</td>\n",
       "      <td>PG-13</td>\n",
       "      <td>8.1</td>\n",
       "      <td>121 min</td>\n",
       "      <td>Directed by James Gunn. With Chris Pratt, Vin ...</td>\n",
       "      <td>Chris Pratt|Vin Diesel|Bradley Cooper|Zoe Saldana</td>\n",
       "      <td>English</td>\n",
       "      <td>Shepperton Studios, Shepperton, Surrey, Englan...</td>\n",
       "      <td>$170,000,000</td>\n",
       "      <td>$774,176,600</td>\n",
       "      <td>NaN</td>\n",
       "    </tr>\n",
       "    <tr>\n",
       "      <th>3</th>\n",
       "      <td>4f73f64a1b559ac76448fd9347bca974</td>\n",
       "      <td>2019-05-29 12:31:37 +0000</td>\n",
       "      <td>https://www.imdb.com/title/tt1825683/</td>\n",
       "      <td>Black Panther (2018) - IMDb</td>\n",
       "      <td>Action|Adventure|Sci-Fi</td>\n",
       "      <td>16 February 2018 (USA)</td>\n",
       "      <td>PG-13</td>\n",
       "      <td>7.3</td>\n",
       "      <td>134 min</td>\n",
       "      <td>Directed by Ryan Coogler. With Chadwick Bosema...</td>\n",
       "      <td>Chadwick Boseman|Michael B. Jordan|Lupita Nyon...</td>\n",
       "      <td>English|Swahili|Nama|Xhosa|Korean</td>\n",
       "      <td>Pinewood Atlanta Studios, 461 Sandy Creek Road...</td>\n",
       "      <td>$200,000,000</td>\n",
       "      <td>$1,347,071,259</td>\n",
       "      <td>NaN</td>\n",
       "    </tr>\n",
       "    <tr>\n",
       "      <th>4</th>\n",
       "      <td>35ced81a516bc02c3f303015cb7a068f</td>\n",
       "      <td>2019-05-29 12:30:49 +0000</td>\n",
       "      <td>https://www.imdb.com/title/tt1300854/</td>\n",
       "      <td>Iron Man 3 (2013) - IMDb</td>\n",
       "      <td>Action|Adventure|Sci-Fi</td>\n",
       "      <td>3 May 2013 (USA)</td>\n",
       "      <td>PG-13</td>\n",
       "      <td>7.2</td>\n",
       "      <td>130 min</td>\n",
       "      <td>Directed by Shane Black. With Robert Downey Jr...</td>\n",
       "      <td>Robert Downey Jr.|Guy Pearce|Gwyneth Paltrow|D...</td>\n",
       "      <td>English</td>\n",
       "      <td>Cary, North Carolina, USA</td>\n",
       "      <td>$200,000,000</td>\n",
       "      <td>$1,215,439,994</td>\n",
       "      <td>NaN</td>\n",
       "    </tr>\n",
       "  </tbody>\n",
       "</table>\n",
       "</div>"
      ],
      "text/plain": [
       "                            Uniq Id            Crawl Timestamp  \\\n",
       "0  bdce103d6c8ee8206477f5ef43cdd6cf  2019-05-29 12:32:00 +0000   \n",
       "1  90bd11174adf73475d088f93a2da28da  2019-05-29 12:30:33 +0000   \n",
       "2  df6fc7d029a7e5c214509cbfb513d283  2019-05-29 12:31:05 +0000   \n",
       "3  4f73f64a1b559ac76448fd9347bca974  2019-05-29 12:31:37 +0000   \n",
       "4  35ced81a516bc02c3f303015cb7a068f  2019-05-29 12:30:49 +0000   \n",
       "\n",
       "                                 Pageurl  \\\n",
       "0  https://www.imdb.com/title/tt6791350/   \n",
       "1  https://www.imdb.com/title/tt1228705/   \n",
       "2  https://www.imdb.com/title/tt2015381/   \n",
       "3  https://www.imdb.com/title/tt1825683/   \n",
       "4  https://www.imdb.com/title/tt1300854/   \n",
       "\n",
       "                                          Title  \\\n",
       "0  Guardians of the Galaxy Vol. 3 (2021) - IMDb   \n",
       "1                      Iron Man 2 (2010) - IMDb   \n",
       "2         Guardians of the Galaxy (2014) - IMDb   \n",
       "3                   Black Panther (2018) - IMDb   \n",
       "4                      Iron Man 3 (2013) - IMDb   \n",
       "\n",
       "                           Genres             Release Date Movie Rating  \\\n",
       "0                             NaN                      NaN          NaN   \n",
       "1         Action|Adventure|Sci-Fi        7 May 2010 (USA)         PG-13   \n",
       "2  Action|Adventure|Comedy|Sci-Fi     1 August 2014 (USA)         PG-13   \n",
       "3         Action|Adventure|Sci-Fi  16 February 2018 (USA)         PG-13   \n",
       "4         Action|Adventure|Sci-Fi        3 May 2013 (USA)         PG-13   \n",
       "\n",
       "   Review Rating Movie Run Time  \\\n",
       "0            NaN            NaN   \n",
       "1            7.0        124 min   \n",
       "2            8.1        121 min   \n",
       "3            7.3        134 min   \n",
       "4            7.2        130 min   \n",
       "\n",
       "                                                Plot  \\\n",
       "0  Directed by James Gunn. With Elizabeth Debicki...   \n",
       "1  Directed by Jon Favreau. With Robert Downey Jr...   \n",
       "2  Directed by James Gunn. With Chris Pratt, Vin ...   \n",
       "3  Directed by Ryan Coogler. With Chadwick Bosema...   \n",
       "4  Directed by Shane Black. With Robert Downey Jr...   \n",
       "\n",
       "                                                Cast  \\\n",
       "0                                                NaN   \n",
       "1  Robert Downey Jr.|Mickey Rourke|Gwyneth Paltro...   \n",
       "2  Chris Pratt|Vin Diesel|Bradley Cooper|Zoe Saldana   \n",
       "3  Chadwick Boseman|Michael B. Jordan|Lupita Nyon...   \n",
       "4  Robert Downey Jr.|Guy Pearce|Gwyneth Paltrow|D...   \n",
       "\n",
       "                            Language  \\\n",
       "0                            English   \n",
       "1             English|French|Russian   \n",
       "2                            English   \n",
       "3  English|Swahili|Nama|Xhosa|Korean   \n",
       "4                            English   \n",
       "\n",
       "                                   Filming Locations           Budget  \\\n",
       "0                                                NaN              NaN   \n",
       "1  D.C. Stages, 1360 East 6th Street, Downtown, L...   $200,000,000     \n",
       "2  Shepperton Studios, Shepperton, Surrey, Englan...   $170,000,000     \n",
       "3  Pinewood Atlanta Studios, 461 Sandy Creek Road...   $200,000,000     \n",
       "4                          Cary, North Carolina, USA   $200,000,000     \n",
       "\n",
       "       Collection Collection Date  \n",
       "0             NaN             NaN  \n",
       "1   $623,933,331,  19 August 2010  \n",
       "2    $774,176,600             NaN  \n",
       "3  $1,347,071,259             NaN  \n",
       "4  $1,215,439,994             NaN  "
      ]
     },
     "execution_count": 6,
     "metadata": {},
     "output_type": "execute_result"
    }
   ],
   "source": [
    "# Print the first five rows of the data\n",
    "my_data.head()"
   ]
  },
  {
   "cell_type": "markdown",
   "id": "ecef33ef",
   "metadata": {
    "papermill": {
     "duration": 0.020557,
     "end_time": "2022-04-12T15:13:20.996016",
     "exception": false,
     "start_time": "2022-04-12T15:13:20.975459",
     "status": "completed"
    },
    "tags": []
   },
   "source": [
    "## Step 4: Visualize the data\n",
    "\n",
    "Use the next code cell to create a figure that tells a story behind your dataset.  You can use any chart type (_line chart, bar chart, heatmap, etc_) of your choosing!"
   ]
  },
  {
   "cell_type": "code",
   "execution_count": 7,
   "id": "002baabd",
   "metadata": {
    "execution": {
     "iopub.execute_input": "2022-04-12T15:13:21.040793Z",
     "iopub.status.busy": "2022-04-12T15:13:21.039816Z",
     "iopub.status.idle": "2022-04-12T15:13:21.547440Z",
     "shell.execute_reply": "2022-04-12T15:13:21.547980Z",
     "shell.execute_reply.started": "2022-04-12T15:11:41.113400Z"
    },
    "papermill": {
     "duration": 0.530689,
     "end_time": "2022-04-12T15:13:21.548159",
     "exception": false,
     "start_time": "2022-04-12T15:13:21.017470",
     "status": "completed"
    },
    "tags": []
   },
   "outputs": [
    {
     "data": {
      "application/javascript": [
       "parent.postMessage({\"jupyterEvent\": \"custom.exercise_interaction\", \"data\": {\"outcomeType\": 1, \"valueTowardsCompletion\": 0.25, \"interactionType\": 1, \"questionType\": 2, \"questionId\": \"4_CreatePlot\", \"learnToolsVersion\": \"0.3.4\", \"failureMessage\": \"\", \"exceptionClass\": \"\", \"trace\": \"\"}}, \"*\")"
      ],
      "text/plain": [
       "<IPython.core.display.Javascript object>"
      ]
     },
     "metadata": {},
     "output_type": "display_data"
    },
    {
     "data": {
      "text/markdown": [
       "<span style=\"color:#33cc33\">Correct:</span> \n",
       "\n"
      ],
      "text/plain": [
       "Correct: \n"
      ]
     },
     "metadata": {},
     "output_type": "display_data"
    },
    {
     "data": {
      "image/png": "[encoded data removed]",
      "text/plain": [
       "<Figure size 864x432 with 1 Axes>"
      ]
     },
     "metadata": {
      "needs_background": "light"
     },
     "output_type": "display_data"
    }
   ],
   "source": [
    "# Create a plot\n",
    "plt.figure(figsize=(12,6))\n",
    "sns.barplot(x=my_data['Review Rating'],y=my_data['Title']) # Your code here\n",
    "\n",
    "# Check that a figure appears below\n",
    "step_4.check()"
   ]
  },
  {
   "cell_type": "markdown",
   "id": "737d6a4d",
   "metadata": {
    "papermill": {
     "duration": 0.022476,
     "end_time": "2022-04-12T15:13:21.593789",
     "exception": false,
     "start_time": "2022-04-12T15:13:21.571313",
     "status": "completed"
    },
    "tags": []
   },
   "source": [
    "## Keep going\n",
    "\n",
    "Learn how to use your skills after completing the micro-course to create data visualizations in a **[final tutorial](https://www.kaggle.com/alexisbcook/creating-your-own-notebooks)**."
   ]
  },
  {
   "cell_type": "markdown",
   "id": "9a80754f",
   "metadata": {
    "papermill": {
     "duration": 0.022207,
     "end_time": "2022-04-12T15:13:21.638620",
     "exception": false,
     "start_time": "2022-04-12T15:13:21.616413",
     "status": "completed"
    },
    "tags": []
   },
   "source": [
    "---\n",
    "\n",
    "\n",
    "\n",
    "\n",
    "*Have questions or comments? Visit the [course discussion forum](https://www.kaggle.com/learn/data-visualization/discussion) to chat with other learners.*"
   ]
  }
 ],
 "metadata": {
  "kernelspec": {
   "display_name": "Python 3",
   "language": "python",
   "name": "python3"
  },
  "language_info": {
   "codemirror_mode": {
    "name": "ipython",
    "version": 3
   },
   "file_extension": ".py",
   "mimetype": "text/x-python",
   "name": "python",
   "nbconvert_exporter": "python",
   "pygments_lexer": "ipython3",
   "version": "3.7.12"
  },
  "papermill": {
   "default_parameters": {},
   "duration": 13.340546,
   "end_time": "2022-04-12T15:13:22.371308",
   "environment_variables": {},
   "exception": null,
   "input_path": "__notebook__.ipynb",
   "output_path": "__notebook__.ipynb",
   "parameters": {},
   "start_time": "2022-04-12T15:13:09.030762",
   "version": "2.3.3"
  }
 },
 "nbformat": 4,
 "nbformat_minor": 5
}
